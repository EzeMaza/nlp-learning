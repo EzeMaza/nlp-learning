{
 "cells": [
  {
   "cell_type": "markdown",
   "metadata": {},
   "source": [
    "# Text Cleaning & Preprocessing Pipeline\n",
    "\n",
    "In this project, I will build a Python script to process raw text files by applying basic NLP techniques. The goal is to transform unstructured text into a cleaner, more structured format, making it more suitable for further analysis.\n",
    "\n",
    "The script will take a raw text file and apply fundamental NLP preprocessing steps to extract meaningful information such as keywords and named entities. These techniques will enhance the text’s usability for advanced NLP tasks like summarization, sentiment analysis, or topic modeling.\n",
    "\n",
    "This project aims to provide hands-on experience with key NLP concepts, tools, and libraries. The main steps include:\n",
    "\n",
    "- **Tokenization**: Splitting text into words or sentences.\n",
    "- **Stopword Removal**: Removing common words (e.g., \"the,\" \"is,\" \"and\") that add little meaning.\n",
    "- **Stemming & Lemmatization**: Reducing words to their root forms.\n",
    "- **Part-of-Speech (POS) Tagging**: Assigning grammatical categories to words.\n",
    "- **Named Entity Recognition (NER)**: Identifying proper names, places, and organizations."
   ]
  },
  {
   "cell_type": "markdown",
   "metadata": {},
   "source": [
    "### List of Contents\n",
    "\n",
    "1. Read & Load the Text Data\n",
    "\n",
    "2. Tokenization\n",
    "\n",
    "3. Stopword Removal\n",
    "\n",
    "4. Stemming & Lemmatization\n",
    "\n",
    "5. Part-of-Speech (POS) Tagging\n",
    "\n",
    "6. Keyword Extraction\n",
    "    * Named Entity Recognition (NER)\n",
    "    * Noun Chunks\n",
    "\n"
   ]
  },
  {
   "cell_type": "markdown",
   "metadata": {},
   "source": [
    "### 1. Read & Load the Text Data\n",
    "\n",
    "First I will load a text file (in .txt format) and remove whitespaces, special characters and extra line breaks. Also I will convert the text to lowercase for processing."
   ]
  },
  {
   "cell_type": "markdown",
   "metadata": {},
   "source": [
    "#### Why cleaning text is a crucial preprocessing step in Natural Language Processing?\n",
    "\n",
    "Algorithms do not interpret text the same way as people do. For me and you, separation between words is necessary to understarn what is written. For NLP models they only add noise and do not have meaning whatsoever. \n",
    "\n",
    "Text preprocessing ensures that only the parts that carry meaning are feed to the model, making it perform better. \n",
    "\n",
    "Of course this has to be carry out with some care: for instance, when lowercasing. Apple and apple are the same word but, in some context, they can have different meaning (the first may be referring to the company and the later to the fruit) "
   ]
  },
  {
   "cell_type": "code",
   "execution_count": 1,
   "metadata": {},
   "outputs": [],
   "source": [
    "import re"
   ]
  },
  {
   "cell_type": "code",
   "execution_count": 2,
   "metadata": {},
   "outputs": [],
   "source": [
    "# Load the text file\n",
    "\n",
    "def load_text(file_path):\n",
    "    \"\"\"Reads a text file and returns the content as a string.\"\"\"\n",
    "    with open(file_path, 'r', encoding='utf-8') as file:\n",
    "        text = file.read()\n",
    "    return text"
   ]
  },
  {
   "cell_type": "code",
   "execution_count": 3,
   "metadata": {},
   "outputs": [],
   "source": [
    "file_path = '/Users/ezequ/Documents/Python/projects/intelligence.txt'"
   ]
  },
  {
   "cell_type": "code",
   "execution_count": 4,
   "metadata": {},
   "outputs": [],
   "source": [
    "raw_text = load_text(file_path)"
   ]
  },
  {
   "cell_type": "code",
   "execution_count": 5,
   "metadata": {},
   "outputs": [],
   "source": [
    "# Clean the text\n",
    "\n",
    "def clean_text(text):\n",
    "    \"\"\"Cleans raw text by removing special characters, extra spaces, and converting to lowercase.\"\"\"\n",
    "    text = text.lower()  # Convert to lowercase\n",
    "    text = re.sub(r'\\[\\d+\\]', '', text)  # Remove references \n",
    "    text = re.sub(r'[,:;]', '', text)  # Remove commas\n",
    "    text = re.sub(r'\\s+', ' ', text)  # Remove extra spaces and newlines\n",
    "    return text.strip()"
   ]
  },
  {
   "cell_type": "code",
   "execution_count": 6,
   "metadata": {},
   "outputs": [],
   "source": [
    "cleaned_text = clean_text(raw_text)"
   ]
  },
  {
   "cell_type": "code",
   "execution_count": 7,
   "metadata": {},
   "outputs": [
    {
     "name": "stdout",
     "output_type": "stream",
     "text": [
      "Original Text:\n",
      " Intelligence has been defined in many ways: the capacity for abstraction, logic, understanding, self-awareness, learning, emotional knowledge, reasoning, planning, creativity, critical thinking, and problem-solving. It can be further described as the ability to perceive or infer information; and to retain it as knowledge to be applied to adaptive behaviors within an environment or context.[1]\n",
      "\n",
      "Human intelligence has long been studied across numerous disciplines. It has also been observed in the cognition of other animals.[2] Some researchers have suggested that plants exhibit forms of intelligence, though this remains controversial.[3][4][5] Intelligence in computers or other machines is called artificial intelligence.\n",
      "\n",
      "The term rose to prominence during the early 1900s.[6][7] Most psychologists believe that intelligence can be divided into various domains or competencies.[8] Intellect, the human faculty of thinking and understanding, is a related narrower concept.\n",
      "\n",
      "Cleaned Text:\n",
      " intelligence has been defined in many ways the capacity for abstraction logic understanding self-awareness learning emotional knowledge reasoning planning creativity critical thinking and problem-solving. it can be further described as the ability to perceive or infer information and to retain it as knowledge to be applied to adaptive behaviors within an environment or context. human intelligence has long been studied across numerous disciplines. it has also been observed in the cognition of other animals. some researchers have suggested that plants exhibit forms of intelligence though this remains controversial. intelligence in computers or other machines is called artificial intelligence. the term rose to prominence during the early 1900s. most psychologists believe that intelligence can be divided into various domains or competencies. intellect the human faculty of thinking and understanding is a related narrower concept.\n"
     ]
    }
   ],
   "source": [
    "print(\"Original Text:\\n\", raw_text)\n",
    "print(\"\\nCleaned Text:\\n\", cleaned_text)"
   ]
  },
  {
   "cell_type": "markdown",
   "metadata": {},
   "source": [
    "Now we have a cleaned version of the original text."
   ]
  },
  {
   "cell_type": "markdown",
   "metadata": {},
   "source": [
    "### 2. Tokenization"
   ]
  },
  {
   "cell_type": "markdown",
   "metadata": {},
   "source": [
    "#### What Tokenization means?\n",
    "\n",
    "Is the process of *splitting text* into smaller units. Sentence tokenization means splitting a text into sentences, wheras word tokeniazation means splitting sentences into individual words."
   ]
  },
  {
   "cell_type": "markdown",
   "metadata": {},
   "source": [
    "#### NLTK and spaCy\n",
    "\n",
    "Both NLTK and spaCy are Python libraries for Natural Language Processing (NLP), but they have different purposes.\n",
    "\n",
    "NLTK is flexible and includes a wide range of NLP algorithms, making it ideal for research and educational use. However, its extensive resources often require more manual tuning, and it is not optimized for large-scale, industrial applications.\n",
    "\n",
    "spaCy, on the other hand, is designed for speed and production-ready applications. While it is less flexible than NLTK for custom text processing, it is significantly faster and comes with efficient pre-trained language models (which need to be downloaded separately)"
   ]
  },
  {
   "cell_type": "code",
   "execution_count": 8,
   "metadata": {},
   "outputs": [],
   "source": [
    "# Import necessary libraries for tokenization\n",
    "\n",
    "import nltk\n",
    "from nltk.tokenize import sent_tokenize, word_tokenize"
   ]
  },
  {
   "cell_type": "code",
   "execution_count": 13,
   "metadata": {},
   "outputs": [
    {
     "name": "stderr",
     "output_type": "stream",
     "text": [
      "[nltk_data] Downloading package punkt to\n",
      "[nltk_data]     C:\\Users\\ezequ\\AppData\\Roaming\\nltk_data...\n",
      "[nltk_data]   Package punkt is already up-to-date!\n",
      "[nltk_data] Downloading package punkt_tab to\n",
      "[nltk_data]     C:\\Users\\ezequ\\AppData\\Roaming\\nltk_data...\n",
      "[nltk_data]   Package punkt_tab is already up-to-date!\n"
     ]
    },
    {
     "data": {
      "text/plain": [
       "True"
      ]
     },
     "execution_count": 13,
     "metadata": {},
     "output_type": "execute_result"
    }
   ],
   "source": [
    "# Download required resources\n",
    "\n",
    "nltk.download('punkt')\n",
    "nltk.download('punkt_tab')"
   ]
  },
  {
   "cell_type": "code",
   "execution_count": 9,
   "metadata": {},
   "outputs": [],
   "source": [
    "def nltk_tokenize(text):\n",
    "    \"\"\"Tokenizes text into sentences and words using NLTK.\"\"\"\n",
    "    sentences = sent_tokenize(text)  # Sentence tokenization\n",
    "    words = word_tokenize(text)  # Word tokenization\n",
    "    return sentences, words"
   ]
  },
  {
   "cell_type": "code",
   "execution_count": 10,
   "metadata": {},
   "outputs": [],
   "source": [
    "# Tokenize the cleaned version of the text\n",
    "\n",
    "sentences, words = nltk_tokenize(cleaned_text)"
   ]
  },
  {
   "cell_type": "code",
   "execution_count": 11,
   "metadata": {},
   "outputs": [
    {
     "name": "stdout",
     "output_type": "stream",
     "text": [
      "Sentence Tokenization (First 3 sentences):\n",
      "1. intelligence has been defined in many ways the capacity for abstraction logic understanding self-awareness learning emotional knowledge reasoning planning creativity critical thinking and problem-solving.\n",
      "2. it can be further described as the ability to perceive or infer information and to retain it as knowledge to be applied to adaptive behaviors within an environment or context.\n",
      "3. human intelligence has long been studied across numerous disciplines.\n"
     ]
    }
   ],
   "source": [
    "print(\"Sentence Tokenization (First 3 sentences):\")\n",
    "for i, sentence in enumerate(sentences[:3], 1):\n",
    "    print(f\"{i}. {sentence}\")"
   ]
  },
  {
   "cell_type": "code",
   "execution_count": 12,
   "metadata": {},
   "outputs": [
    {
     "name": "stdout",
     "output_type": "stream",
     "text": [
      "\n",
      " Word Tokenization (First 20 words):\n",
      "['intelligence', 'has', 'been', 'defined', 'in', 'many', 'ways', 'the', 'capacity', 'for', 'abstraction', 'logic', 'understanding', 'self-awareness', 'learning', 'emotional', 'knowledge', 'reasoning', 'planning', 'creativity']\n"
     ]
    }
   ],
   "source": [
    "print(\"\\n Word Tokenization (First 20 words):\")\n",
    "print(words[:20])"
   ]
  },
  {
   "cell_type": "markdown",
   "metadata": {},
   "source": [
    "Now using SpaCy:"
   ]
  },
  {
   "cell_type": "code",
   "execution_count": 35,
   "metadata": {},
   "outputs": [],
   "source": [
    "import spacy"
   ]
  },
  {
   "cell_type": "code",
   "execution_count": 39,
   "metadata": {},
   "outputs": [],
   "source": [
    "# Load spaCy model\n",
    "nlp = spacy.load(\"en_core_web_sm\")"
   ]
  },
  {
   "cell_type": "code",
   "execution_count": 41,
   "metadata": {},
   "outputs": [],
   "source": [
    "def spacy_tokenize(text):\n",
    "    \"\"\"Tokenizes text into sentences and words using spaCy.\"\"\"\n",
    "    doc = nlp(text)\n",
    "    sentences = [sent.text for sent in doc.sents]  # Sentence tokenization\n",
    "    words = [token.text for token in doc]  # Word tokenization\n",
    "    return sentences, words"
   ]
  },
  {
   "cell_type": "code",
   "execution_count": 42,
   "metadata": {},
   "outputs": [],
   "source": [
    "spacy_sentences, spacy_words = spacy_tokenize(cleaned_text)"
   ]
  },
  {
   "cell_type": "code",
   "execution_count": 43,
   "metadata": {},
   "outputs": [
    {
     "name": "stdout",
     "output_type": "stream",
     "text": [
      "spaCy Sentence Tokenization (First 3 sentences):\n",
      "1. intelligence has been defined in many ways the capacity for abstraction logic understanding self-awareness learning emotional knowledge reasoning planning creativity critical thinking and problem-solving.\n",
      "2. it can be further described as the ability to perceive or infer information and to retain it as knowledge to be applied to adaptive behaviors within an environment or context.\n",
      "3. human intelligence has long been studied across numerous disciplines.\n"
     ]
    }
   ],
   "source": [
    "print(\"spaCy Sentence Tokenization (First 3 sentences):\")\n",
    "for i, sentence in enumerate(spacy_sentences[:3], 1):\n",
    "    print(f\"{i}. {sentence}\")"
   ]
  },
  {
   "cell_type": "code",
   "execution_count": 44,
   "metadata": {},
   "outputs": [
    {
     "name": "stdout",
     "output_type": "stream",
     "text": [
      "\n",
      "spaCy Word Tokenization (First 20 words):\n",
      "['intelligence', 'has', 'been', 'defined', 'in', 'many', 'ways', 'the', 'capacity', 'for', 'abstraction', 'logic', 'understanding', 'self', '-', 'awareness', 'learning', 'emotional', 'knowledge', 'reasoning']\n"
     ]
    }
   ],
   "source": [
    "print(\"\\nspaCy Word Tokenization (First 20 words):\")\n",
    "print(spacy_words[:20])"
   ]
  },
  {
   "cell_type": "code",
   "execution_count": 52,
   "metadata": {},
   "outputs": [
    {
     "name": "stdout",
     "output_type": "stream",
     "text": [
      "Sentence tokenization is the same with both models\n"
     ]
    }
   ],
   "source": [
    "all_match = True  \n",
    "\n",
    "for i, sentence in enumerate(sentences):\n",
    "    if sentence not in spacy_sentences:\n",
    "        print(f\"Sentence number {i} is not equal to the sentence using the spaCy model\")\n",
    "        all_match = False  \n",
    "\n",
    "if all_match:\n",
    "    print(\"Sentence tokenization is the same with both models\")  \n"
   ]
  },
  {
   "cell_type": "code",
   "execution_count": 47,
   "metadata": {},
   "outputs": [
    {
     "name": "stdout",
     "output_type": "stream",
     "text": [
      "['self-awareness', 'problem-solving']\n"
     ]
    }
   ],
   "source": [
    "different_words = []\n",
    "\n",
    "for word in words:\n",
    "    if word not in spacy_words:  \n",
    "        different_words.append(word)\n",
    "\n",
    "print(different_words)"
   ]
  },
  {
   "cell_type": "markdown",
   "metadata": {},
   "source": [
    "Here, NLTK manage better compund words like 'self-awareness' and 'problem-solving'"
   ]
  },
  {
   "cell_type": "markdown",
   "metadata": {},
   "source": [
    "### 3. Stopword Removal\n"
   ]
  },
  {
   "cell_type": "markdown",
   "metadata": {},
   "source": [
    "Stopwords are commonly occurring words like \"the\", \"is\", and \"and\" that don’t carry much meaningful information in many NLP tasks. Removing them helps reduce noise and improve the performance of models."
   ]
  },
  {
   "cell_type": "code",
   "execution_count": 13,
   "metadata": {},
   "outputs": [],
   "source": [
    "from nltk.corpus import stopwords"
   ]
  },
  {
   "cell_type": "code",
   "execution_count": 14,
   "metadata": {},
   "outputs": [
    {
     "name": "stderr",
     "output_type": "stream",
     "text": [
      "[nltk_data] Downloading package stopwords to\n",
      "[nltk_data]     C:\\Users\\ezequ\\AppData\\Roaming\\nltk_data...\n",
      "[nltk_data]   Package stopwords is already up-to-date!\n"
     ]
    },
    {
     "data": {
      "text/plain": [
       "True"
      ]
     },
     "execution_count": 14,
     "metadata": {},
     "output_type": "execute_result"
    }
   ],
   "source": [
    "# Download NLTK stopwords\n",
    "\n",
    "nltk.download('stopwords')"
   ]
  },
  {
   "cell_type": "code",
   "execution_count": 15,
   "metadata": {},
   "outputs": [],
   "source": [
    "def nltk_remove_stopwords(words):\n",
    "    \"\"\"Removes stopwords from the tokenized words using NLTK.\"\"\"\n",
    "    stop_words = set(stopwords.words('english'))\n",
    "    filtered_words = [word for word in words if word not in stop_words]\n",
    "    return filtered_words"
   ]
  },
  {
   "cell_type": "code",
   "execution_count": 16,
   "metadata": {},
   "outputs": [
    {
     "name": "stdout",
     "output_type": "stream",
     "text": [
      "Words after Stopword Removal (First 20 words):\n",
      "['intelligence', 'defined', 'many', 'ways', 'capacity', 'abstraction', 'logic', 'understanding', 'self-awareness', 'learning', 'emotional', 'knowledge', 'reasoning', 'planning', 'creativity', 'critical', 'thinking', 'problem-solving', '.', 'described']\n"
     ]
    }
   ],
   "source": [
    "filtered_words = nltk_remove_stopwords(words)\n",
    "\n",
    "print(\"Words after Stopword Removal (First 20 words):\")\n",
    "print(filtered_words[:20])\n"
   ]
  },
  {
   "cell_type": "markdown",
   "metadata": {},
   "source": [
    "now with spaCy:"
   ]
  },
  {
   "cell_type": "code",
   "execution_count": 53,
   "metadata": {},
   "outputs": [],
   "source": [
    "def spacy_remove_stopwords(words):\n",
    "    \"\"\"Removes stopwords from the tokenized words using spaCy.\"\"\"\n",
    "    stop_words = nlp.Defaults.stop_words\n",
    "    filtered_words = [word for word in words if word.lower() not in stop_words]\n",
    "    return filtered_words"
   ]
  },
  {
   "cell_type": "code",
   "execution_count": 54,
   "metadata": {},
   "outputs": [],
   "source": [
    "filtered_words_spacy = spacy_remove_stopwords(spacy_words)"
   ]
  },
  {
   "cell_type": "code",
   "execution_count": 55,
   "metadata": {},
   "outputs": [
    {
     "name": "stdout",
     "output_type": "stream",
     "text": [
      "Words after Stopword Removal (First 20 words):\n",
      "['intelligence', 'defined', 'ways', 'capacity', 'abstraction', 'logic', 'understanding', 'self', '-', 'awareness', 'learning', 'emotional', 'knowledge', 'reasoning', 'planning', 'creativity', 'critical', 'thinking', 'problem', '-']\n"
     ]
    }
   ],
   "source": [
    "print(\"Words after Stopword Removal (First 20 words):\")\n",
    "print(filtered_words_spacy[:20])"
   ]
  },
  {
   "cell_type": "markdown",
   "metadata": {},
   "source": [
    "### 4. Stemming and Lemmatization"
   ]
  },
  {
   "cell_type": "markdown",
   "metadata": {},
   "source": [
    "Stemming and lemmatization are text preprocessing techniques that reduce word variants to one base form [1]. Even though the goal is the same, the approach is different: **stemming** merely removes common suffixes from the end of word tokens, whereas **lemmatization** ensures the output word is an existing, normalized form that can be found in the dictionary.\n",
    "\n",
    "There is a trade-off between these two processes. Lemmatization may seem like a more robust technique—because it is. However, the drawback is that it is more computationally intensive. **Stemming** is preferable when **speed matters** and some errors are acceptable (e.g., in large-scale text processing, quick search indexing). **Lemmatization** is better for **accuracy**, especially when dealing with tasks requiring proper word meaning (e.g., NLP models, sentiment analysis, and linguistics-heavy applications). If computational cost is not an issue, **lemmatization is usually the better choice** since it preserves the actual dictionary form of words.\n",
    "\n",
    "Why is this necessary?\n",
    "Natural language is highly redundant, and *a single concept can be represented in multiple ways* (e.g., run, running, ran, runs). Some words have multiple inflected forms (study vs. studies, am vs. is vs. are) that may end up being treated as separate words. **Reducing the number of unique words in a dataset while retaining their true meaning** ensures that similar words are recognized as the same. This has the added benefit of requiring **less memory and computation**, making text processing more efficient.\n",
    "\n"
   ]
  },
  {
   "cell_type": "markdown",
   "metadata": {},
   "source": [
    "First, I will apply stemming:"
   ]
  },
  {
   "cell_type": "code",
   "execution_count": 17,
   "metadata": {},
   "outputs": [],
   "source": [
    "from nltk.stem import SnowballStemmer"
   ]
  },
  {
   "cell_type": "code",
   "execution_count": 18,
   "metadata": {},
   "outputs": [],
   "source": [
    "def nltk_stemming(words):\n",
    "    \"\"\"Applies stemming to words using NLTK's SnowballStemmer.\"\"\"\n",
    "    stemmed_words = [SnowballStemmer(\"english\").stem(word) for word in words]\n",
    "    return stemmed_words"
   ]
  },
  {
   "cell_type": "code",
   "execution_count": 19,
   "metadata": {},
   "outputs": [],
   "source": [
    "stemmed_words = nltk_stemming(filtered_words)"
   ]
  },
  {
   "cell_type": "code",
   "execution_count": 25,
   "metadata": {},
   "outputs": [
    {
     "name": "stdout",
     "output_type": "stream",
     "text": [
      "Words after Stemming with the Porter Algorithm (First 20 words):\n",
      "['intellig', 'defin', 'mani', 'way', 'capac', 'abstract', 'logic', 'understand', 'self-awar', 'learn', 'emot', 'knowledg', 'reason', 'plan', 'creativ', 'critic', 'think', 'problem-solv', '.', 'describ']\n"
     ]
    }
   ],
   "source": [
    "print(\"Words after Stemming (First 20 words):\")\n",
    "print(stemmed_words[:20])"
   ]
  },
  {
   "cell_type": "markdown",
   "metadata": {},
   "source": [
    "Many, many 'weired' words in this list!"
   ]
  },
  {
   "cell_type": "markdown",
   "metadata": {},
   "source": [
    "Now let's try lemmanizing "
   ]
  },
  {
   "cell_type": "code",
   "execution_count": 20,
   "metadata": {},
   "outputs": [],
   "source": [
    "from nltk.stem import WordNetLemmatizer\n",
    "from nltk.corpus import wordnet"
   ]
  },
  {
   "cell_type": "code",
   "execution_count": 21,
   "metadata": {},
   "outputs": [
    {
     "name": "stderr",
     "output_type": "stream",
     "text": [
      "[nltk_data] Downloading package wordnet to\n",
      "[nltk_data]     C:\\Users\\ezequ\\AppData\\Roaming\\nltk_data...\n",
      "[nltk_data]   Package wordnet is already up-to-date!\n"
     ]
    },
    {
     "data": {
      "text/plain": [
       "True"
      ]
     },
     "execution_count": 21,
     "metadata": {},
     "output_type": "execute_result"
    }
   ],
   "source": [
    "# Download WordNet for lemmatization\n",
    "nltk.download('wordnet')"
   ]
  },
  {
   "cell_type": "code",
   "execution_count": 22,
   "metadata": {},
   "outputs": [],
   "source": [
    "def nltk_lemmatization(words):\n",
    "    \"\"\"Applies lemmatization using NLTK's WordNetLemmatizer.\"\"\"\n",
    "    lemmatizer = WordNetLemmatizer()\n",
    "    lemmatized_words = [lemmatizer.lemmatize(word) for word in words]\n",
    "    return lemmatized_words"
   ]
  },
  {
   "cell_type": "code",
   "execution_count": 23,
   "metadata": {},
   "outputs": [],
   "source": [
    "lemmatized_words_nltk = nltk_lemmatization(filtered_words)"
   ]
  },
  {
   "cell_type": "code",
   "execution_count": 24,
   "metadata": {},
   "outputs": [
    {
     "name": "stdout",
     "output_type": "stream",
     "text": [
      "Words after Lemmatization:\n",
      "['intelligence', 'defined', 'many', 'way', 'capacity', 'abstraction', 'logic', 'understanding', 'self-awareness', 'learning', 'emotional', 'knowledge', 'reasoning', 'planning', 'creativity', 'critical', 'thinking', 'problem-solving', '.', 'described', 'ability', 'perceive', 'infer', 'information', 'retain', 'knowledge', 'applied', 'adaptive', 'behavior', 'within', 'environment', 'context', '.', 'human', 'intelligence', 'long', 'studied', 'across', 'numerous', 'discipline', '.', 'also', 'observed', 'cognition', 'animal', '.', 'researcher', 'suggested', 'plant', 'exhibit', 'form', 'intelligence', 'though', 'remains', 'controversial', '.', 'intelligence', 'computer', 'machine', 'called', 'artificial', 'intelligence', '.', 'term', 'rose', 'prominence', 'early', '1900s', '.', 'psychologist', 'believe', 'intelligence', 'divided', 'various', 'domain', 'competency', '.', 'intellect', 'human', 'faculty', 'thinking', 'understanding', 'related', 'narrower', 'concept', '.']\n"
     ]
    }
   ],
   "source": [
    "print(\"Words after Lemmatization:\")\n",
    "print(lemmatized_words_nltk)"
   ]
  },
  {
   "cell_type": "markdown",
   "metadata": {},
   "source": [
    "Is this ok? For instance, why 'defined' istead of define?"
   ]
  },
  {
   "cell_type": "markdown",
   "metadata": {},
   "source": [
    "Now with spaCy:"
   ]
  },
  {
   "cell_type": "code",
   "execution_count": 56,
   "metadata": {},
   "outputs": [],
   "source": [
    "def spacy_lemmatization(words):\n",
    "    \"\"\"Applies lemmatization using spaCy.\"\"\"\n",
    "    doc = nlp(\" \".join(words)) \n",
    "    lemmatized_words = [token.lemma_ for token in doc]\n",
    "    return lemmatized_words"
   ]
  },
  {
   "cell_type": "code",
   "execution_count": 57,
   "metadata": {},
   "outputs": [],
   "source": [
    "lemmatized_words_spacy = spacy_lemmatization(filtered_words_spacy)"
   ]
  },
  {
   "cell_type": "code",
   "execution_count": 59,
   "metadata": {},
   "outputs": [
    {
     "name": "stdout",
     "output_type": "stream",
     "text": [
      "Words after Lemmatization with spaCy (First 20 words):\n",
      "['intelligence', 'define', 'way', 'capacity', 'abstraction', 'logic', 'understand', 'self', '-', 'awareness', 'learn', 'emotional', 'knowledge', 'reasoning', 'planning', 'creativity', 'critical', 'thinking', 'problem', '-', 'solving', '.', 'describe', 'ability', 'perceive', 'infer', 'information', 'retain', 'knowledge', 'apply', 'adaptive', 'behavior', 'environment', 'context', '.', 'human', 'intelligence', 'long', 'study', 'numerous', 'discipline', '.', 'observe', 'cognition', 'animal', '.', 'researcher', 'suggest', 'plant', 'exhibit', 'form', 'intelligence', 'remain', 'controversial', '.', 'intelligence', 'computer', 'machine', 'call', 'artificial', 'intelligence', '.', 'term', 'rise', 'prominence', 'early', '1900', '.', 'psychologist', 'believe', 'intelligence', 'divide', 'domain', 'competency', '.', 'intellect', 'human', 'faculty', 'thinking', 'understanding', 'relate', 'narrow', 'concept', '.']\n"
     ]
    }
   ],
   "source": [
    "print(\"Words after Lemmatization with spaCy (First 20 words):\")\n",
    "print(lemmatized_words_spacy)"
   ]
  },
  {
   "cell_type": "markdown",
   "metadata": {},
   "source": [
    "### 5. Part-of-Speech (POS) Tagging"
   ]
  },
  {
   "cell_type": "markdown",
   "metadata": {},
   "source": [
    "POS tagging is the process of labeling words with their grammatical roles, such as nouns, verbs, adjectives and adverbs"
   ]
  },
  {
   "cell_type": "code",
   "execution_count": 25,
   "metadata": {},
   "outputs": [],
   "source": [
    "from nltk import pos_tag"
   ]
  },
  {
   "cell_type": "code",
   "execution_count": 30,
   "metadata": {},
   "outputs": [
    {
     "name": "stderr",
     "output_type": "stream",
     "text": [
      "[nltk_data] Downloading package averaged_perceptron_tagger_eng to\n",
      "[nltk_data]     C:\\Users\\ezequ\\AppData\\Roaming\\nltk_data...\n",
      "[nltk_data]   Unzipping taggers\\averaged_perceptron_tagger_eng.zip.\n"
     ]
    },
    {
     "data": {
      "text/plain": [
       "True"
      ]
     },
     "execution_count": 30,
     "metadata": {},
     "output_type": "execute_result"
    }
   ],
   "source": [
    "# Download required NLTK data\n",
    "nltk.download('averaged_perceptron_tagger_eng')"
   ]
  },
  {
   "cell_type": "code",
   "execution_count": 31,
   "metadata": {},
   "outputs": [],
   "source": [
    "def nltk_pos_tagging(words):\n",
    "    \"\"\"Assigns Part-of-Speech (POS) tags using NLTK.\"\"\"\n",
    "    return pos_tag(words)"
   ]
  },
  {
   "cell_type": "code",
   "execution_count": 32,
   "metadata": {},
   "outputs": [],
   "source": [
    "pos_tags_nltk = nltk_pos_tagging(lemmatized_words_nltk)"
   ]
  },
  {
   "cell_type": "code",
   "execution_count": 33,
   "metadata": {},
   "outputs": [
    {
     "name": "stdout",
     "output_type": "stream",
     "text": [
      "POS Tags (First 20 words):\n",
      "[('intelligence', 'NN'), ('defined', 'VBD'), ('many', 'JJ'), ('way', 'NN'), ('capacity', 'NN'), ('abstraction', 'NN'), ('logic', 'VBD'), ('understanding', 'JJ'), ('self-awareness', 'JJ'), ('learning', 'JJ'), ('emotional', 'JJ'), ('knowledge', 'NN'), ('reasoning', 'VBG'), ('planning', 'VBG'), ('creativity', 'NN'), ('critical', 'JJ'), ('thinking', 'NN'), ('problem-solving', 'NN'), ('.', '.'), ('described', 'VBN')]\n"
     ]
    }
   ],
   "source": [
    "print(\"POS Tags (First 20 words):\")\n",
    "print(pos_tags_nltk[:20])\n"
   ]
  },
  {
   "cell_type": "markdown",
   "metadata": {},
   "source": [
    "Now with spaCy:"
   ]
  },
  {
   "cell_type": "code",
   "execution_count": 61,
   "metadata": {},
   "outputs": [],
   "source": [
    "def spacy_pos_tagging(words):\n",
    "    \"\"\"Assigns Part-of-Speech (POS) tags using spaCy.\"\"\"\n",
    "    doc = nlp(\" \".join(words))  \n",
    "    return [(token.text, token.pos_) for token in doc]"
   ]
  },
  {
   "cell_type": "code",
   "execution_count": 62,
   "metadata": {},
   "outputs": [],
   "source": [
    "pos_tags_spacy = spacy_pos_tagging(lemmatized_words_spacy)"
   ]
  },
  {
   "cell_type": "code",
   "execution_count": 63,
   "metadata": {},
   "outputs": [
    {
     "name": "stdout",
     "output_type": "stream",
     "text": [
      "POS Tags (First 10 words using spaCy):\n",
      "[('intelligence', 'NOUN'), ('define', 'PROPN'), ('way', 'NOUN'), ('capacity', 'NOUN'), ('abstraction', 'NOUN'), ('logic', 'NOUN'), ('understand', 'VERB'), ('self', 'NOUN'), ('-', 'PUNCT'), ('awareness', 'NOUN')]\n"
     ]
    }
   ],
   "source": [
    "print(\"POS Tags (First 10 words using spaCy):\")\n",
    "print(pos_tags_spacy[:10])"
   ]
  },
  {
   "cell_type": "markdown",
   "metadata": {},
   "source": [
    "Now I am going to compare how the 2 models classify words, in particular for nouns verbs and adjectives, which by common experience are the most common types of words"
   ]
  },
  {
   "cell_type": "code",
   "execution_count": 78,
   "metadata": {},
   "outputs": [
    {
     "name": "stdout",
     "output_type": "stream",
     "text": [
      "These words are recognized as nouns in the NLTK model but not in the spaCy model: ['problem-solving', 'prominence', 'retain']\n",
      "These words are recognized as nouns in the spaCy model but not in the NLTK model: ['divide', 'problem', 'reasoning', 'define', 'rise', 'planning', 'self', 'awareness', 'form', 'understanding', 'logic']\n"
     ]
    }
   ],
   "source": [
    "# Nouns\n",
    "\n",
    "noun_list_ntk = {word[0] for word in pos_tags_nltk if word[1] == 'NN'}\n",
    "noun_list_spacy = {word[0] for word in pos_tags_spacy if word[1] in ('NOUN', 'PROPN')}\n",
    "\n",
    "diff_nltk = [word for word in noun_list_ntk if word not in noun_list_spacy]\n",
    "diff_spacy = [word for word in noun_list_spacy if word not in noun_list_ntk]\n",
    "\n",
    "print(\"These words are recognized as nouns in the NLTK model but not in the spaCy model:\", diff_nltk)\n",
    "print(\"These words are recognized as nouns in the spaCy model but not in the NLTK model:\", diff_spacy)\n"
   ]
  },
  {
   "cell_type": "code",
   "execution_count": 89,
   "metadata": {},
   "outputs": [
    {
     "name": "stdout",
     "output_type": "stream",
     "text": [
      "These words are recognized as verbs in the NLTK model but not in the spaCy model: ['rose', 'defined', 'suggested', 'applied', 'logic']\n",
      "These words are recognized as verbs in the spaCy model but not in the NLTK model: ['solving', 'suggest', 'remain', 'observe', 'retain', 'learn', 'apply', 'believe', 'study', 'describe', 'understand', 'relate', 'call']\n"
     ]
    }
   ],
   "source": [
    "# Verbs\n",
    "\n",
    "verb_list_ntk = {word[0] for word in pos_tags_nltk if word[1] == 'VBD'}\n",
    "verb_list_spacy = {word[0] for word in pos_tags_spacy if word[1] in ('VERB')}\n",
    "\n",
    "verb_diff_nltk = [word for word in verb_list_ntk if word not in verb_list_spacy]\n",
    "verb_diff_spacy = [word for word in verb_list_spacy if word not in verb_list_ntk]\n",
    "\n",
    "print(\"These words are recognized as verbs in the NLTK model but not in the spaCy model:\", verb_diff_nltk)\n",
    "print(\"These words are recognized as verbs in the spaCy model but not in the NLTK model:\", verb_diff_spacy)\n"
   ]
  },
  {
   "cell_type": "code",
   "execution_count": 90,
   "metadata": {},
   "outputs": [
    {
     "name": "stdout",
     "output_type": "stream",
     "text": [
      "These words are recognized as adjectives in the NLTK model but not in the spaCy model: ['self-awareness', 'learning', 'many', 'understanding', 'form', 'related', 'various', 'observed']\n",
      "These words are recognized as adjectives in the spaCy model but not in the NLTK model: ['narrow']\n"
     ]
    }
   ],
   "source": [
    "# Adjectives\n",
    "\n",
    "adj_list_ntk = {word[0] for word in pos_tags_nltk if word[1] == 'JJ'}\n",
    "adj_list_spacy = {word[0] for word in pos_tags_spacy if word[1] == 'ADJ'}\n",
    "\n",
    "adj_diff_nltk = [word for word in adj_list_ntk if word not in adj_list_spacy]\n",
    "adj_diff_spacy = [word for word in adj_list_spacy if word not in adj_list_ntk]\n",
    "\n",
    "print(\"These words are recognized as adjectives in the NLTK model but not in the spaCy model:\", adj_diff_nltk)\n",
    "print(\"These words are recognized as adjectives in the spaCy model but not in the NLTK model:\", adj_diff_spacy)\n"
   ]
  },
  {
   "cell_type": "markdown",
   "metadata": {},
   "source": [
    "Up to this point, I can conclude that:\n",
    "\n",
    "* NLTK did a good job with compound words well, correctly recognizing and classifying them.\n",
    "* spaCy excelled in lemmatization, assigning present-tense verb forms, which improved its classification accuracy.\n",
    "* Overall, spaCy performed better, with fewer misclassifications and more effective lemmatization."
   ]
  },
  {
   "cell_type": "markdown",
   "metadata": {},
   "source": [
    "For this reasons, I willd choose to work with spaCy from here on now."
   ]
  },
  {
   "cell_type": "markdown",
   "metadata": {},
   "source": [
    "### 6. Keyword Extraction\n"
   ]
  },
  {
   "cell_type": "markdown",
   "metadata": {},
   "source": [
    "#### Named Entity Recognition (NER)\n",
    "\n",
    "This is the part in which we identify and categorize *named entities*, such as names of people, organizations, locations and dates."
   ]
  },
  {
   "cell_type": "code",
   "execution_count": 92,
   "metadata": {},
   "outputs": [],
   "source": [
    "def spacy_ner(text):\n",
    "    \"\"\"Extracts named entities from text using spaCy.\"\"\"\n",
    "    doc = nlp(text)  # Convert text to a spaCy document\n",
    "    return [(ent.text, ent.label_) for ent in doc.ents]"
   ]
  },
  {
   "cell_type": "code",
   "execution_count": 96,
   "metadata": {},
   "outputs": [],
   "source": [
    "# Remove text references\n",
    "\n",
    "text_nref = re.sub(r'\\[\\d+\\]', '', raw_text)"
   ]
  },
  {
   "cell_type": "code",
   "execution_count": 98,
   "metadata": {},
   "outputs": [],
   "source": [
    "entities_spacy = spacy_ner(text_nref)"
   ]
  },
  {
   "cell_type": "code",
   "execution_count": 99,
   "metadata": {},
   "outputs": [
    {
     "name": "stdout",
     "output_type": "stream",
     "text": [
      "Named Entities:\n",
      "[('the early 1900s', 'DATE')]\n"
     ]
    }
   ],
   "source": [
    "print(\"Named Entities:\")\n",
    "print(entities_spacy)\n"
   ]
  },
  {
   "cell_type": "markdown",
   "metadata": {},
   "source": [
    "HACER UNA PIPELINE\n",
    "+\n",
    "VER ALGUN CASO DE LA VIDA REAL, UN PROYECTITO Y SUBIRLO COMO UN NOTEBOOK DIFERENTE (PREGUNTARLE A CHAT UN DATASET SUGERIDO)"
   ]
  },
  {
   "cell_type": "markdown",
   "metadata": {},
   "source": [
    "#### Noun Chunks\n",
    "\n",
    "These are phrases that usually contain key concepts (e.g., \"machine learning model\", \"financial market trends\")."
   ]
  },
  {
   "cell_type": "code",
   "execution_count": 100,
   "metadata": {},
   "outputs": [],
   "source": [
    "from collections import Counter"
   ]
  },
  {
   "cell_type": "code",
   "execution_count": 103,
   "metadata": {},
   "outputs": [],
   "source": [
    "def extract_keywords_spacy(text, top_n=10, min_length=4):\n",
    "    \"\"\"Extracts keyword phrases using spaCy's noun chunks.\"\"\"\n",
    "    nlp = spacy.load(\"en_core_web_sm\")\n",
    "    doc = nlp(text)\n",
    "\n",
    "    keywords = [chunk.text.lower() for chunk in doc.noun_chunks if len(chunk.text) >= min_length]\n",
    "    keywords = list(set([kw for kw in keywords if kw.isalpha() and kw not in nlp.Defaults.stop_words]))\n",
    "\n",
    "    keyword_counts = Counter(keywords).most_common(top_n)\n",
    "    \n",
    "    return keyword_counts"
   ]
  },
  {
   "cell_type": "code",
   "execution_count": 104,
   "metadata": {},
   "outputs": [
    {
     "name": "stdout",
     "output_type": "stream",
     "text": [
      "Keywords (Noun Chunks):\n",
      "[('learning', 1), ('prominence', 1), ('plants', 1), ('information', 1), ('forms', 1), ('understanding', 1), ('context', 1), ('intelligence', 1), ('knowledge', 1), ('competencies', 1)]\n"
     ]
    }
   ],
   "source": [
    "print(\"Keywords (Noun Chunks):\")\n",
    "print(extract_keywords_spacy(text_nref))"
   ]
  },
  {
   "cell_type": "markdown",
   "metadata": {},
   "source": [
    "<ins>References<ins>:\n",
    "\n",
    "[1] https://www.ibm.com/think/topics/stemming-lemmatization"
   ]
  }
 ],
 "metadata": {
  "kernelspec": {
   "display_name": ".venv",
   "language": "python",
   "name": "python3"
  },
  "language_info": {
   "codemirror_mode": {
    "name": "ipython",
    "version": 3
   },
   "file_extension": ".py",
   "mimetype": "text/x-python",
   "name": "python",
   "nbconvert_exporter": "python",
   "pygments_lexer": "ipython3",
   "version": "3.11.2"
  }
 },
 "nbformat": 4,
 "nbformat_minor": 2
}
