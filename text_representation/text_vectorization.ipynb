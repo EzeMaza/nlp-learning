{
 "cells": [
  {
   "cell_type": "markdown",
   "metadata": {},
   "source": [
    "# Text Vectorization\n",
    "\n",
    "In this project, I will explore different text vectorization techniques and compare how effective they are in representing textual data."
   ]
  },
  {
   "cell_type": "markdown",
   "metadata": {},
   "source": [
    "### List of Contents\n",
    "\n",
    "1. What is text vectorization?\n",
    "    * Text Vectorization and Text Embedings\n",
    "2. Data colection\n",
    "    * Dataset selection\n",
    "3. Data exploration \n",
    "    * Data visualization\n",
    "4. Preprocessing text data\n",
    "5. TF-IDF Vectorization\n",
    "    * Understanding TF-IDF\n",
    "    * Implementing TF-IDF with scikit-learn\n",
    "    * Code example\n",
    "    * Analyzing most important words per category\n",
    "6. Word Embeddings: Word2Vec\n",
    "    * Introduction to Word2Vec"
   ]
  },
  {
   "cell_type": "markdown",
   "metadata": {},
   "source": [
    "### 1. What is text vectorization?\n",
    "\n",
    "Text vectorization is the process of *converting text into numerical representations* so that machine learning models and other computational algorithms can process and analyze it. By doing this, operations on sentences become more like math equations, which is something computers can do quickly, and can do well [1].\n",
    "\n",
    "Many tasks that one would like to perform on textual data like text classification, clustering and search engines can be done much more efficiently with numbers rather than words. Since most algorithms operate on numerical data, vectorizing text is crucial for performing these tasks efficiently.\n",
    "\n",
    "#### Text Vectorization and Text Embedings\n",
    "\n",
    "Text vectorization is a much broader term that includes any method that converts text into numerical form. In this regard, **embeddings** are a *specific type* of vectorization. \n",
    "\n",
    "Traditional vectorization methods often rely on *sparse vectors*. For example, if we have a vocabulary consisting of four words: (orange, apple, mango, banana), and we want to represent \"apple\" using one-hot encoding, a possible representation would be [0,1,0,0]. Since the vector size depends on the vocabulary size, if the vocabulary has 100,000 words, each word or document is represented by a 100,000-dimensional vector. However, most of the values in these vectors are zero, leading to inefficiencies in storage and computation (you still have to store and process all those zeroes). Additionally, as dimensionality increases, similarity calculations become less meaningful, making clustering or comparing texts based on meaning more difficult.\n",
    "\n",
    "A major limitation of these methods is that they lack **context awareness** (each word is treated independently, ignoring relationships between them). For example, \"car\" and \"automobile\" would be considered completely different, even though they have similar meanings. Likewise, traditional vectorization methods struggle with **polysemy**, where the same word has multiple meanings depending on context (e.g., \"bank\" as a financial institution vs. \"bank\" as the side of a river). \n",
    "\n",
    "Examples of traditional vectorization methods include **One-Hot Encoding**, **Count Vectorization**, and **TF-IDF**. \n",
    "\n",
    "Text embeddings, on the other hand, represent words or sentences as dense, continuous vectors. Each dimension typically carries meaningful information, enabling the encoding of relationships between words. Lower dimensionality also helps reducing memory usage and speeds up computations.\n",
    "\n",
    "Examples of embeddings are Word2Vec, GloVe, FastText and BERT embeddings."
   ]
  },
  {
   "cell_type": "markdown",
   "metadata": {},
   "source": [
    "### 2. Data colection"
   ]
  },
  {
   "cell_type": "markdown",
   "metadata": {},
   "source": [
    "#### Dataset selection\n",
    "\n",
    "For this project, I chose to work with the BBC News dataset, which contains more than 2000 pre-categorized news articles across five topics. This dataset is small enough for rapid experimentation while still being large enough to reflect real-world document processing challenges.\n",
    "\n",
    "Unlike other text sources that may contain errors and misspellings, this dataset consists of well-formed sentences. This allows the focus to remain on text representation and modeling techniques rather than data cleaning. News articles offer rich, diverse, and formal text and they include domain-specific terminology, which is great for applying word embeddings and vectorization techniques."
   ]
  },
  {
   "cell_type": "code",
   "execution_count": 1,
   "metadata": {},
   "outputs": [],
   "source": [
    "import os\n",
    "import zipfile\n",
    "import requests"
   ]
  },
  {
   "cell_type": "code",
   "execution_count": 7,
   "metadata": {},
   "outputs": [],
   "source": [
    "bbc_url = \"https://storage.googleapis.com/dataset-uploader/bbc/bbc-text.csv\"\n",
    "bbc_path = \"bbc-text.csv\""
   ]
  },
  {
   "cell_type": "code",
   "execution_count": null,
   "metadata": {},
   "outputs": [
    {
     "name": "stdout",
     "output_type": "stream",
     "text": [
      "Dataset already exists.\n"
     ]
    }
   ],
   "source": [
    "# Download dataset\n",
    "if not os.path.exists(bbc_path):\n",
    "    response = requests.get(bbc_url)\n",
    "    with open(bbc_path, \"wb\") as f:\n",
    "        f.write(response.content)\n",
    "    print(\"Dataset downloaded successfully.\")\n",
    "else:\n",
    "    print(\"Dataset already exists.\")"
   ]
  },
  {
   "cell_type": "markdown",
   "metadata": {},
   "source": [
    "### 3. Data exploration"
   ]
  },
  {
   "cell_type": "code",
   "execution_count": 2,
   "metadata": {},
   "outputs": [],
   "source": [
    "# Let's load the dataset as a dataframe for easy manipulation\n",
    "\n",
    "import pandas as pd\n",
    "\n",
    "df = pd.read_csv(\"bbc-text.csv\")"
   ]
  },
  {
   "cell_type": "code",
   "execution_count": null,
   "metadata": {},
   "outputs": [
    {
     "name": "stdout",
     "output_type": "stream",
     "text": [
      "        category                                               text\n",
      "0           tech  tv future in the hands of viewers with home th...\n",
      "1       business  worldcom boss  left books alone  former worldc...\n",
      "2          sport  tigers wary of farrell  gamble  leicester say ...\n",
      "3          sport  yeading face newcastle in fa cup premiership s...\n",
      "4  entertainment  ocean s twelve raids box office ocean s twelve...\n"
     ]
    }
   ],
   "source": [
    "print(df.head())  "
   ]
  },
  {
   "cell_type": "markdown",
   "metadata": {},
   "source": [
    "The dataframe contains the new's category in the column 'category' and the piece of news itself in the 'text' column "
   ]
  },
  {
   "cell_type": "code",
   "execution_count": 11,
   "metadata": {},
   "outputs": [
    {
     "name": "stdout",
     "output_type": "stream",
     "text": [
      "<class 'pandas.core.frame.DataFrame'>\n",
      "RangeIndex: 2225 entries, 0 to 2224\n",
      "Data columns (total 2 columns):\n",
      " #   Column    Non-Null Count  Dtype \n",
      "---  ------    --------------  ----- \n",
      " 0   category  2225 non-null   object\n",
      " 1   text      2225 non-null   object\n",
      "dtypes: object(2)\n",
      "memory usage: 34.9+ KB\n",
      "None\n"
     ]
    }
   ],
   "source": [
    "# Check data types and missing values\n",
    "\n",
    "print(df.info())  "
   ]
  },
  {
   "cell_type": "markdown",
   "metadata": {},
   "source": [
    "#### Data visualization"
   ]
  },
  {
   "cell_type": "code",
   "execution_count": 16,
   "metadata": {},
   "outputs": [
    {
     "data": {
      "image/png": "[encoded data removed]",
      "text/plain": [
       "<Figure size 600x300 with 1 Axes>"
      ]
     },
     "metadata": {},
     "output_type": "display_data"
    }
   ],
   "source": [
    "import matplotlib.pyplot as plt\n",
    "\n",
    "plt.figure(figsize=(6,3))\n",
    "df[\"category\"].value_counts().plot(kind=\"bar\", title=\"Category Distribution\", color=\"skyblue\")\n",
    "plt.xlabel(\"Category\")\n",
    "plt.ylabel(\"Count\")\n",
    "plt.show()\n"
   ]
  },
  {
   "cell_type": "markdown",
   "metadata": {},
   "source": [
    "As mentioned before, the dataset does not contain null values, and the news classes are fairly balanced."
   ]
  },
  {
   "cell_type": "markdown",
   "metadata": {},
   "source": [
    "### 4. Preprocessing text data"
   ]
  },
  {
   "cell_type": "markdown",
   "metadata": {},
   "source": [
    "For this crucial step I am going to use the spaCy python package."
   ]
  },
  {
   "cell_type": "code",
   "execution_count": 3,
   "metadata": {},
   "outputs": [],
   "source": [
    "import spacy"
   ]
  },
  {
   "cell_type": "code",
   "execution_count": 4,
   "metadata": {},
   "outputs": [],
   "source": [
    "# Load the English NLP model\n",
    "\n",
    "nlp = spacy.load(\"en_core_web_sm\")"
   ]
  },
  {
   "cell_type": "markdown",
   "metadata": {},
   "source": [
    "When you call nlp on a text, spaCy first tokenizes the text to produce a Doc object. Then the Doc objects is processed in different steps (processing pipeline).\n",
    "\n",
    "The pipeline used by default includes a tagger, a lemmatizer, a parser and an entity recognizer. Each pipeline component returns the processed Doc, which is then passed on to the next component.\n",
    "\n",
    "The disable keyword argument is used to for disabling pipeline components that are not needed [2]. "
   ]
  },
  {
   "cell_type": "code",
   "execution_count": 5,
   "metadata": {},
   "outputs": [],
   "source": [
    "def preprocess_texts(texts):\n",
    "    processed_texts = []\n",
    "    for doc in nlp.pipe(texts, disable=[\"ner\", \"parser\"]):  \n",
    "        tokens = [token.lemma_ for token in doc if not token.is_punct and not token.is_stop]\n",
    "        processed_texts.append(\" \".join(tokens))\n",
    "    return processed_texts\n",
    "\n",
    "df[\"processed_text\"] = preprocess_texts(df[\"text\"])\n"
   ]
  },
  {
   "cell_type": "code",
   "execution_count": 21,
   "metadata": {},
   "outputs": [
    {
     "data": {
      "text/html": [
       "<div>\n",
       "<style scoped>\n",
       "    .dataframe tbody tr th:only-of-type {\n",
       "        vertical-align: middle;\n",
       "    }\n",
       "\n",
       "    .dataframe tbody tr th {\n",
       "        vertical-align: top;\n",
       "    }\n",
       "\n",
       "    .dataframe thead th {\n",
       "        text-align: right;\n",
       "    }\n",
       "</style>\n",
       "<table border=\"1\" class=\"dataframe\">\n",
       "  <thead>\n",
       "    <tr style=\"text-align: right;\">\n",
       "      <th></th>\n",
       "      <th>category</th>\n",
       "      <th>text</th>\n",
       "      <th>processed_text</th>\n",
       "    </tr>\n",
       "  </thead>\n",
       "  <tbody>\n",
       "    <tr>\n",
       "      <th>0</th>\n",
       "      <td>tech</td>\n",
       "      <td>tv future in the hands of viewers with home th...</td>\n",
       "      <td>tv future hand viewer home theatre system   pl...</td>\n",
       "    </tr>\n",
       "    <tr>\n",
       "      <th>1</th>\n",
       "      <td>business</td>\n",
       "      <td>worldcom boss  left books alone  former worldc...</td>\n",
       "      <td>worldcom boss   leave book   worldcom boss ber...</td>\n",
       "    </tr>\n",
       "    <tr>\n",
       "      <th>2</th>\n",
       "      <td>sport</td>\n",
       "      <td>tigers wary of farrell  gamble  leicester say ...</td>\n",
       "      <td>tiger wary farrell   gamble   leicester rush m...</td>\n",
       "    </tr>\n",
       "    <tr>\n",
       "      <th>3</th>\n",
       "      <td>sport</td>\n",
       "      <td>yeading face newcastle in fa cup premiership s...</td>\n",
       "      <td>yeade face newcastle fa cup premiership newcas...</td>\n",
       "    </tr>\n",
       "    <tr>\n",
       "      <th>4</th>\n",
       "      <td>entertainment</td>\n",
       "      <td>ocean s twelve raids box office ocean s twelve...</td>\n",
       "      <td>ocean s raid box office ocean s   crime caper ...</td>\n",
       "    </tr>\n",
       "  </tbody>\n",
       "</table>\n",
       "</div>"
      ],
      "text/plain": [
       "        category                                               text  \\\n",
       "0           tech  tv future in the hands of viewers with home th...   \n",
       "1       business  worldcom boss  left books alone  former worldc...   \n",
       "2          sport  tigers wary of farrell  gamble  leicester say ...   \n",
       "3          sport  yeading face newcastle in fa cup premiership s...   \n",
       "4  entertainment  ocean s twelve raids box office ocean s twelve...   \n",
       "\n",
       "                                      processed_text  \n",
       "0  tv future hand viewer home theatre system   pl...  \n",
       "1  worldcom boss   leave book   worldcom boss ber...  \n",
       "2  tiger wary farrell   gamble   leicester rush m...  \n",
       "3  yeade face newcastle fa cup premiership newcas...  \n",
       "4  ocean s raid box office ocean s   crime caper ...  "
      ]
     },
     "execution_count": 21,
     "metadata": {},
     "output_type": "execute_result"
    }
   ],
   "source": [
    "df.head()"
   ]
  },
  {
   "cell_type": "markdown",
   "metadata": {},
   "source": [
    "### 5. TF-IDF Vectorization"
   ]
  },
  {
   "cell_type": "markdown",
   "metadata": {},
   "source": [
    "#### Understanding TF-IDF\n",
    "\n",
    "TF-IDF (Term Frequency - Inverse Document Frequency) is a statistical measure that evaluates how important a word is to a document in a context of a group of documents. \n",
    "\n",
    "The TF-IDF score is defined as:\n",
    "\n",
    "$$\n",
    "TF-IDF(w) = TF(w) \\times IDF(w)\n",
    "$$\n",
    "\n",
    "Let's begin defining then what each term means.\n",
    "\n",
    "* Term frequency (TF): it measures how often a word (w) appears in a document. Calculating this is pretty straight forward:\n",
    "\n",
    "$$\n",
    "TF(w) = \\frac{\\text{Number of times } w \\text{ appears in a document}}{\\text{Total number of words in the document}}\n",
    "$$\n",
    "\n",
    "\n",
    "* Inverse Document Frequency (IDF): if the importance of a word is measured by it's frequency, then common 'meaningless' words would dominate. To fully capture this, the weight of common words needs to be reduced. This term does exactly that.\n",
    "\n",
    "$$\n",
    "IDF(w) = \\log \\frac{\\text{Total number of documents}}{\\text{Number of documents containing } w}\n",
    "$$\n"
   ]
  },
  {
   "cell_type": "markdown",
   "metadata": {},
   "source": [
    "So for instance common words (e.g., \"the\", \"is\") get low scores because they appear in almost all documents, whether \n",
    "important words (e.g., \"Brexit\" in a political article) get higher scores because they appear frequently in fewer documents."
   ]
  },
  {
   "cell_type": "markdown",
   "metadata": {},
   "source": [
    "#### Implementing TF-IDF with scikit-learn"
   ]
  },
  {
   "cell_type": "markdown",
   "metadata": {},
   "source": [
    "I am going to use the TfidfVectorizer module from scikit-learn, and apply it to to the the processed_text column. This module does some preprocessing (lowercasing, tokenization), but of course custom preprocessing is necessary  before passing the text in most cases"
   ]
  },
  {
   "cell_type": "code",
   "execution_count": null,
   "metadata": {},
   "outputs": [],
   "source": [
    "from sklearn.feature_extraction.text import TfidfVectorizer"
   ]
  },
  {
   "cell_type": "markdown",
   "metadata": {},
   "source": [
    "When calling fit_transform() the output is a Tf-idf-weighted document-term matrix. After applying TF-IDF vectorization, each document (in this particular case, each news article) is transformed into a numerical vector, where each dimension represents a unique word from the entire dataset. The value in each dimension is the TF-IDF score of that word for that particular document."
   ]
  },
  {
   "cell_type": "markdown",
   "metadata": {},
   "source": [
    "The first thing the model does is to build the feature space (or 'vocabulary') which entails analyze the entire dataset and extract all unique words. These unique words form the features (or dimensions) of our numerical vector representation.\n",
    "\n",
    "Then, each document is converted into a vector of length equal to the vocabulary size. The value at each position in the vector corresponds to the TF-IDF score of the corresponding word in that document. If a word does not appear in a document, its TF-IDF score is zero for that document. "
   ]
  },
  {
   "cell_type": "markdown",
   "metadata": {},
   "source": [
    "Let's illustrate this with an example: \n",
    "\n",
    "$$\n",
    "\\begin{array}{|c|c|}\n",
    "\\hline\n",
    "\\text{category} & \\text{processed\\_tex} \\\\\n",
    "\\hline\n",
    "\\text{tech} & \\text{'tv future hand viewer home theatre system'}  \\\\\n",
    "\\text{business} & \\text{'worldcom boss leave book worldcom boss'}  \\\\\n",
    "\\text{sport} & \\text{'tiger wary farrell gamble leicester rush'} \\\\\n",
    "\\hline\n",
    "\\end{array}\n",
    "$$\n",
    "\n"
   ]
  },
  {
   "cell_type": "markdown",
   "metadata": {},
   "source": [
    "After processing, suppose the vocabulary (unique words across all documents) looks like this:\n",
    "\n",
    "$$\n",
    "[\\text{'tv'}, \\text{'future'}, \\text{'hand'}, \\text{'leave'}, \n",
    "\\text{'home'}, \\text{'boss'}, \\text{'rush'}, \\text{'book'},\\text{'wary'}]\n",
    "$$\n",
    "Now, each document is represented as a vector of TF-IDF scores for these words:"
   ]
  },
  {
   "cell_type": "markdown",
   "metadata": {},
   "source": [
    "$$\n",
    "\\begin{array}{|c|c|c|c|c|c|c|c|c|c|}\n",
    "\\hline\n",
    "\\text{Document ID} & \\text{tv} & \\text{future} & \\text{hand} & \\text{leave} & \\text{home} & \\text{boss} & \\text{rush} & \\text{book} & \\text{wary} \\\\\n",
    "\\hline\n",
    "1 & 0.50 & 0.60 & 0.60 & 0.00 & 0.50 & 0.00 & 0.00 & 0.00 & 0.00 \\\\\n",
    "2 & 0.00 & 0.00 & 0.00 & 0.50 & 0.00 & 0.60 & 0.00 & 0.50 & 0.00 \\\\\n",
    "3 & 0.00 & 0.00 & 0.00 & 0.00 & 0.00 & 0.00 & 0.50 & 0.00 & 0.60 \\\\\n",
    "\\hline\n",
    "\\end{array}\n",
    "$$"
   ]
  },
  {
   "cell_type": "markdown",
   "metadata": {},
   "source": [
    "Each row represents a document, and each column corresponds to a word in the vocabulary, with its TF-IDF score."
   ]
  },
  {
   "cell_type": "markdown",
   "metadata": {},
   "source": [
    "The resulting matrices often contain a lot of zeros. Let's consider the extreme case where the feature space is very large  but each news article is relatively short. In this case, most of the entries in the matrix will be zero, as each document will only contain a small subset of the vocabulary.\n",
    "\n",
    "If we store this matrix as a dense matrix, it would be highly inefficient because we would still need to allocate memory for all those zero values\n",
    "\n",
    "A more memory-efficient solution is to use a sparse matrix representation, such as the Compressed Sparse Row (CSR) format. This format only stores the nonzero values, along with their corresponding row and column indices, which significantly reduces memory usage."
   ]
  },
  {
   "cell_type": "markdown",
   "metadata": {},
   "source": [
    "#### Code example"
   ]
  },
  {
   "cell_type": "code",
   "execution_count": 7,
   "metadata": {},
   "outputs": [],
   "source": [
    "# Initialize TF-IDF vectorizer\n",
    "\n",
    "tfidf_vectorizer = TfidfVectorizer(max_features=5000)  # stick with the 5000 most common words"
   ]
  },
  {
   "cell_type": "code",
   "execution_count": 8,
   "metadata": {},
   "outputs": [],
   "source": [
    "# Fit the vectorizer and transform the processed text\n",
    "\n",
    "tfidf_matrix = tfidf_vectorizer.fit_transform(df[\"processed_text\"])"
   ]
  },
  {
   "cell_type": "code",
   "execution_count": 25,
   "metadata": {},
   "outputs": [
    {
     "data": {
      "text/plain": [
       "scipy.sparse._csr.csr_matrix"
      ]
     },
     "execution_count": 25,
     "metadata": {},
     "output_type": "execute_result"
    }
   ],
   "source": [
    "type(tfidf_matrix)"
   ]
  },
  {
   "cell_type": "code",
   "execution_count": 15,
   "metadata": {},
   "outputs": [
    {
     "name": "stdout",
     "output_type": "stream",
     "text": [
      "  (0, 4668)\t0.43701415766846885\n",
      "  (0, 1939)\t0.0530394178821348\n",
      "  (0, 2105)\t0.056443901095926285\n",
      "  (0, 4800)\t0.1590662733609125\n",
      "  (0, 2203)\t0.04586531956155932\n",
      "  (0, 4519)\t0.04168992984627906\n",
      "  (0, 4438)\t0.054455337247135555\n",
      "  (0, 3370)\t0.057133805194318425\n",
      "  (0, 2173)\t0.08596475204527529\n",
      "  (0, 1280)\t0.17055228226654975\n",
      "  (0, 1364)\t0.0623046008535141\n",
      "  (0, 4796)\t0.06219916454994787\n",
      "  (0, 3672)\t0.14092355096809167\n",
      "  (0, 2972)\t0.029922384344980953\n",
      "  (0, 2695)\t0.04881539565595965\n",
      "  (0, 3867)\t0.07712381103880442\n",
      "  (0, 4866)\t0.04001263001827564\n",
      "  (0, 3298)\t0.12215576773820008\n",
      "  (0, 4862)\t0.16262582423207997\n",
      "  (0, 1359)\t0.03010775473556413\n",
      "  (0, 4980)\t0.02455687413651789\n",
      "  (0, 4549)\t0.03184516490800092\n",
      "  (0, 201)\t0.024917369524082203\n",
      "  (0, 1696)\t0.034542046882358186\n",
      "  (0, 3240)\t0.0810331068306551\n",
      "  :\t:\n",
      "  (2224, 1776)\t0.06545068010222864\n",
      "  (2224, 3042)\t0.11258086099165603\n",
      "  (2224, 2020)\t0.3108840975524032\n",
      "  (2224, 3375)\t0.11248261361690871\n",
      "  (2224, 2149)\t0.08636202472240763\n",
      "  (2224, 3280)\t0.06109295807335709\n",
      "  (2224, 3437)\t0.0677545360345083\n",
      "  (2224, 1501)\t0.08414695707546711\n",
      "  (2224, 57)\t0.0791474978398828\n",
      "  (2224, 4907)\t0.07834270757878184\n",
      "  (2224, 513)\t0.08732025064283316\n",
      "  (2224, 3223)\t0.09392651717949477\n",
      "  (2224, 1224)\t0.10269662948736186\n",
      "  (2224, 3799)\t0.09723516571360684\n",
      "  (2224, 2631)\t0.09978330487954505\n",
      "  (2224, 4679)\t0.23467383773865338\n",
      "  (2224, 242)\t0.09021471601585491\n",
      "  (2224, 4632)\t0.10872816969820874\n",
      "  (2224, 2021)\t0.11843764869170631\n",
      "  (2224, 2905)\t0.08478654504184223\n",
      "  (2224, 3965)\t0.12506277446316297\n",
      "  (2224, 4195)\t0.5067693093183269\n",
      "  (2224, 4059)\t0.28160758733501484\n",
      "  (2224, 1289)\t0.12355404416208265\n",
      "  (2224, 2042)\t0.12506277446316297\n"
     ]
    }
   ],
   "source": [
    "print(tfidf_matrix)"
   ]
  },
  {
   "cell_type": "markdown",
   "metadata": {},
   "source": [
    "Each line follows the format (document_index, word_index) __ TF-IDF score\n",
    "\n",
    "Let's look at the first line:\n",
    "\n",
    "0 → The document index (i.e., first news article).\n",
    "\n",
    "4668 → The column index (i.e., word's position in the vocabulary).\n",
    "\n",
    "0.437 → The TF-IDF score for that word in the document."
   ]
  },
  {
   "cell_type": "markdown",
   "metadata": {},
   "source": [
    "Convert to array format for manipulation"
   ]
  },
  {
   "cell_type": "code",
   "execution_count": 13,
   "metadata": {},
   "outputs": [],
   "source": [
    "tfidf_array = tfidf_matrix.toarray()"
   ]
  },
  {
   "cell_type": "code",
   "execution_count": 27,
   "metadata": {},
   "outputs": [],
   "source": [
    "# Get feature names\n",
    "\n",
    "tfidf_features = tfidf_vectorizer.get_feature_names_out()"
   ]
  },
  {
   "cell_type": "code",
   "execution_count": 28,
   "metadata": {},
   "outputs": [
    {
     "name": "stdout",
     "output_type": "stream",
     "text": [
      "        000   05   10      100  102  104  10bn  10th   11       110  ...  \\\n",
      "0  0.021371  0.0  0.0  0.02901  0.0  0.0   0.0   0.0  0.0  0.000000  ...   \n",
      "1  0.027208  0.0  0.0  0.00000  0.0  0.0   0.0   0.0  0.0  0.000000  ...   \n",
      "2  0.000000  0.0  0.0  0.00000  0.0  0.0   0.0   0.0  0.0  0.000000  ...   \n",
      "3  0.000000  0.0  0.0  0.00000  0.0  0.0   0.0   0.0  0.0  0.000000  ...   \n",
      "4  0.000000  0.0  0.0  0.00000  0.0  0.0   0.0   0.0  0.0  0.085355  ...   \n",
      "\n",
      "   yuan  yugansk  yuganskneftegas  yukos  yushchenko  zealand  zero  zombie  \\\n",
      "0   0.0      0.0              0.0    0.0         0.0      0.0   0.0     0.0   \n",
      "1   0.0      0.0              0.0    0.0         0.0      0.0   0.0     0.0   \n",
      "2   0.0      0.0              0.0    0.0         0.0      0.0   0.0     0.0   \n",
      "3   0.0      0.0              0.0    0.0         0.0      0.0   0.0     0.0   \n",
      "4   0.0      0.0              0.0    0.0         0.0      0.0   0.0     0.0   \n",
      "\n",
      "   zone  zurich  \n",
      "0   0.0     0.0  \n",
      "1   0.0     0.0  \n",
      "2   0.0     0.0  \n",
      "3   0.0     0.0  \n",
      "4   0.0     0.0  \n",
      "\n",
      "[5 rows x 5000 columns]\n"
     ]
    }
   ],
   "source": [
    "# convert TF-IDF matrix to dataframe for convenience\n",
    "\n",
    "tfidf_df = pd.DataFrame(tfidf_array, columns=tfidf_features)\n",
    "\n",
    "print(tfidf_df.head())"
   ]
  },
  {
   "cell_type": "markdown",
   "metadata": {},
   "source": [
    "#### Analyzing most important words per category"
   ]
  },
  {
   "cell_type": "code",
   "execution_count": 30,
   "metadata": {},
   "outputs": [
    {
     "name": "stdout",
     "output_type": "stream",
     "text": [
      "\n",
      "Top words in business articles:\n",
      "say        0.051531\n",
      "company    0.037932\n",
      "bank       0.036021\n",
      "firm       0.035884\n",
      "year       0.034083\n",
      "market     0.034038\n",
      "growth     0.033642\n",
      "economy    0.033395\n",
      "rise       0.033240\n",
      "price      0.030926\n",
      "Name: business, dtype: float64\n",
      "\n",
      "Top words in entertainment articles:\n",
      "film     0.103811\n",
      "award    0.055105\n",
      "star     0.048115\n",
      "good     0.037189\n",
      "say      0.035432\n",
      "music    0.035109\n",
      "band     0.033042\n",
      "year     0.032679\n",
      "oscar    0.031744\n",
      "actor    0.030720\n",
      "Name: entertainment, dtype: float64\n",
      "\n",
      "Top words in politics articles:\n",
      "mr            0.087179\n",
      "say           0.075241\n",
      "labour        0.065360\n",
      "election      0.061025\n",
      "party         0.056902\n",
      "blair         0.054763\n",
      "tory          0.048268\n",
      "government    0.046445\n",
      "minister      0.042142\n",
      "brown         0.039231\n",
      "Name: politics, dtype: float64\n",
      "\n",
      "Top words in sport articles:\n",
      "win        0.050248\n",
      "game       0.043330\n",
      "play       0.041083\n",
      "england    0.035899\n",
      "player     0.034302\n",
      "say        0.033362\n",
      "match      0.032254\n",
      "cup        0.028765\n",
      "team       0.028673\n",
      "final      0.027619\n",
      "Name: sport, dtype: float64\n",
      "\n",
      "Top words in tech articles:\n",
      "mobile        0.049740\n",
      "say           0.045589\n",
      "people        0.043580\n",
      "game          0.043507\n",
      "phone         0.042913\n",
      "technology    0.041686\n",
      "user          0.037057\n",
      "computer      0.034802\n",
      "software      0.032983\n",
      "service       0.032732\n",
      "Name: tech, dtype: float64\n"
     ]
    }
   ],
   "source": [
    "import numpy as np\n",
    "\n",
    "# Get the average TF-IDF score for each word across all documents\n",
    "category_means = pd.DataFrame(tfidf_matrix.toarray(), columns=tfidf_vectorizer.get_feature_names_out())\n",
    "category_means[\"category\"] = df[\"category\"]\n",
    "\n",
    "# Compute mean TF-IDF score for each category\n",
    "category_tfidf = category_means.groupby(\"category\").mean()\n",
    "\n",
    "# Display top words for each category\n",
    "for category in category_tfidf.index:\n",
    "    print(f\"\\nTop words in {category} articles:\")\n",
    "    print(category_tfidf.loc[category].nlargest(10))  # Show top 10 words"
   ]
  },
  {
   "cell_type": "markdown",
   "metadata": {},
   "source": [
    "<ins>observation</ins> : a word that appears in every category is \"say.\" This makes sense, even though it is not a particularly meaningful word in terms of topic-specific content. Given that the dataset consists of news articles, it is common for journalists to cite statements from sources. This frequent attribution of speech may explains why \"say\" is among the most common words across categories. \n",
    "\n",
    "Theoretically \"say\" should have a low TF-IDF score because it's frequency across every category. However, if its TF is extremely high, and the IDF is not low enough, it might still rank highly. One possible approach to adress this is to use a more aggressive IDF weighting or even normalize the score. An even more radical approach would be to add the word as a stop-word for removal."
   ]
  },
  {
   "cell_type": "markdown",
   "metadata": {},
   "source": [
    "### 6. Word embeddings: Word2Vec "
   ]
  },
  {
   "cell_type": "markdown",
   "metadata": {},
   "source": [
    "Now that we've covered TF-IDF, let's move on to word wmbeddings, specifically Word2Vec. As discussed earlier, text embeddings represent words as **low-dimensional**, **dense vectors**, and can capture their relationships in a *continuous vector space*. \n",
    "\n",
    "Unlike traditional text vectorization methods, word embeddings have the advantage that similar words (e.g., king and queen) are positioned closely in the vector space. This enables embeddings to capture semantic relationships between words, which is not possible with simple text vectorization techniques like TF-IDF"
   ]
  },
  {
   "cell_type": "markdown",
   "metadata": {},
   "source": [
    "#### Introduction to Word2Vec\n",
    "\n",
    "Word2Vec is a neural network-based approach that learns word relationships by analyzing their context in large collection ot texts.\n",
    "There are two architectures:\n",
    "\n",
    "Skip-gram: Predicts surrounding words from a target word.\n",
    "CBOW (Continuous Bag of Words): Predicts a target word from surrounding words.\n",
    "Example:\n",
    "\n",
    "Skip-gram: Given \"The cat sits on the\", predict words like \"mat\".\n",
    "CBOW: Given \"The ___ sits on the\", predict \"cat\"."
   ]
  },
  {
   "cell_type": "markdown",
   "metadata": {},
   "source": [
    "Let's begin by importing Gensim, an open-source Python library  designed for unsupervised topic modeling and NLP tasks, which include, among others, the Word2Vec algorithm"
   ]
  },
  {
   "cell_type": "code",
   "execution_count": 16,
   "metadata": {},
   "outputs": [],
   "source": [
    "import gensim\n",
    "from gensim.models import Word2Vec\n",
    "from gensim.utils import simple_preprocess"
   ]
  },
  {
   "cell_type": "code",
   "execution_count": 17,
   "metadata": {},
   "outputs": [],
   "source": [
    "# Tokenize text\n",
    "sentences = df[\"processed_text\"].apply(lambda x: simple_preprocess(x)).tolist()"
   ]
  },
  {
   "cell_type": "code",
   "execution_count": 18,
   "metadata": {},
   "outputs": [],
   "source": [
    "# Train Word2Vec model\n",
    "w2v_model = Word2Vec(sentences=sentences, vector_size=100, window=5, min_count=2, workers=4)"
   ]
  },
  {
   "cell_type": "code",
   "execution_count": null,
   "metadata": {},
   "outputs": [],
   "source": [
    "# Save model\n",
    "w2v_model.save(\"word2vec_bbc.model\")\n",
    "print(\"Word2Vec model trained and saved!\")"
   ]
  },
  {
   "cell_type": "code",
   "execution_count": null,
   "metadata": {},
   "outputs": [],
   "source": [
    "# Load model\n",
    "w2v_model = Word2Vec.load(\"word2vec_bbc.model\")\n",
    "\n",
    "# Find words most similar to \"government\"\n",
    "print(w2v_model.wv.most_similar(\"government\", topn=5))\n"
   ]
  },
  {
   "cell_type": "markdown",
   "metadata": {},
   "source": [
    "<ins>References<ins>:\n",
    "\n",
    "[1] https://www.ibm.com/docs/en/watsonx/saas?topic=embeddings-text-overview\n",
    "\n",
    "[2] https://spacy.io/usage/processing-pipelines\n"
   ]
  }
 ],
 "metadata": {
  "kernelspec": {
   "display_name": ".venv",
   "language": "python",
   "name": "python3"
  },
  "language_info": {
   "codemirror_mode": {
    "name": "ipython",
    "version": 3
   },
   "file_extension": ".py",
   "mimetype": "text/x-python",
   "name": "python",
   "nbconvert_exporter": "python",
   "pygments_lexer": "ipython3",
   "version": "3.11.2"
  }
 },
 "nbformat": 4,
 "nbformat_minor": 2
}
