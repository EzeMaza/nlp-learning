{
 "cells": [
  {
   "cell_type": "markdown",
   "metadata": {},
   "source": [
    "# Text Clustering\n",
    "\n",
    "Text clustering is a major task in NLP and in other areas, and is one of the most common task for unspervised learning\n",
    "\n",
    "In this notebook, I am going to apply **unsupervised learning** techniques to group similar news articles from the BBC News dataset. Using different **text vectorization methods**, I am going to explore how well various clustering algorithms can categorize the news articles into meaningful groups.\n",
    "\n",
    "\n",
    "## List of Contents\n",
    "\n",
    "1. **Load and prepare data**  \n",
    "   - Load text data. Preprocess and create vectorized representations (TF-IDF, Word2Vec, SBERT).\n",
    "\n",
    "2. **Apply Clustering Algorithms**  \n",
    "   - Use **K-Means**, **Hierarchical Clustering**, and **DBSCAN** to identify clusters.\n",
    "\n",
    "3. **Evaluate Clustering Performance**  \n",
    "   - Compute **Silhouette Score**, **Davies-Bouldin Index**, and **Adjusted Rand Index (ARI)** (if labels are available).\n",
    "\n",
    "4. **Visualize Clusters**  \n",
    "   - Reduce dimensionality using **PCA or t-SNE**.\n",
    "   - Plot cluster distributions to analyze how well-separated they are.\n",
    "\n",
    "5. **Compare Embedding Methods**  \n",
    "   - Evaluate clustering results for **TF-IDF, Word2Vec, and SBERT**.\n",
    "   - Discuss which embedding method is most effective for clustering news articles.\n",
    "\n",
    "## 🛠 Tech Stack\n",
    "- **Python** (pandas, numpy, matplotlib, seaborn)\n",
    "- **scikit-learn** (K-Means, evaluation metrics)\n",
    "- **gensim** (Word2Vec)\n",
    "- **sentence-transformers** (SBERT embeddings)\n",
    "- **hdbscan** (Density-based clustering)\n",
    "\n",
    "## 🎯 Expected Outcome\n",
    "- A clear comparison of **how different embeddings affect clustering**.\n",
    "- Identification of **the best approach for grouping news articles** without predefined labels.\n",
    "- Insights into **how well clusters align with actual news categories**.\n"
   ]
  },
  {
   "cell_type": "code",
   "execution_count": 1,
   "metadata": {},
   "outputs": [
    {
     "name": "stderr",
     "output_type": "stream",
     "text": [
      "c:\\Users\\ezequ\\Documents\\Python\\.venv\\Lib\\site-packages\\tqdm\\auto.py:21: TqdmWarning: IProgress not found. Please update jupyter and ipywidgets. See https://ipywidgets.readthedocs.io/en/stable/user_install.html\n",
      "  from .autonotebook import tqdm as notebook_tqdm\n"
     ]
    }
   ],
   "source": [
    "import numpy as np\n",
    "import matplotlib.pyplot as plt\n",
    "import pandas as pd\n",
    "import spacy\n",
    "from sklearn.feature_extraction.text import TfidfVectorizer\n",
    "import gensim\n",
    "from gensim.models import Word2Vec\n",
    "from sentence_transformers import SentenceTransformer"
   ]
  },
  {
   "cell_type": "markdown",
   "metadata": {},
   "source": [
    "### 1. **Load and prepare data**"
   ]
  },
  {
   "cell_type": "markdown",
   "metadata": {},
   "source": [
    "I am going to work again with the BBC News dataset"
   ]
  },
  {
   "cell_type": "code",
   "execution_count": 2,
   "metadata": {},
   "outputs": [],
   "source": [
    "# Import data \n",
    "\n",
    "df = pd.read_csv(\"bbc-text.csv\")"
   ]
  },
  {
   "cell_type": "markdown",
   "metadata": {},
   "source": [
    "Preprocess the text data: at this step each piece of news is going to be tokenized so later the embeddings can be obtained"
   ]
  },
  {
   "cell_type": "code",
   "execution_count": 3,
   "metadata": {},
   "outputs": [],
   "source": [
    "nlp = spacy.load(\"en_core_web_sm\")  # load the english NLP model\n",
    "\n",
    "def preprocess_texts(texts):\n",
    "    processed_texts = []\n",
    "    for doc in nlp.pipe(texts, disable=[\"ner\", \"parser\"]):  \n",
    "        tokens = [token.lemma_ for token in doc if not token.is_punct and not token.is_stop]\n",
    "        processed_texts.append(\" \".join(tokens))\n",
    "    return processed_texts\n",
    "\n",
    "df[\"processed_text\"] = preprocess_texts(df[\"text\"])"
   ]
  },
  {
   "cell_type": "code",
   "execution_count": 4,
   "metadata": {},
   "outputs": [],
   "source": [
    "# TF-IDF \n",
    "\n",
    "tfidf_vectorizer = TfidfVectorizer(max_features=5000)  # stick with the 5000 most common words\n",
    "tfidf_matrix = tfidf_vectorizer.fit_transform(df[\"processed_text\"]).toarray()"
   ]
  },
  {
   "cell_type": "code",
   "execution_count": 5,
   "metadata": {},
   "outputs": [],
   "source": [
    "# Word2Vec \n",
    "\n",
    "texts = df[\"processed_text\"].tolist()\n",
    "w2v_model = Word2Vec(sentences=[text.split() for text in texts], vector_size=300, window=5,  min_count=2, workers=4)\n",
    "word_vectors = np.array([np.mean([w2v_model.wv[word] for word in text.split() if word in w2v_model.wv], axis=0) for text in texts])"
   ]
  },
  {
   "cell_type": "code",
   "execution_count": 6,
   "metadata": {},
   "outputs": [],
   "source": [
    "# BERT\n",
    "\n",
    "sbert_model = SentenceTransformer('all-MiniLM-L6-v2') \n",
    "df['sbert_embedding'] = df['processed_text'].apply(lambda x: sbert_model.encode(x))\n",
    "sbert_embeddings = np.stack(df['sbert_embedding'].values)\n"
   ]
  },
  {
   "cell_type": "markdown",
   "metadata": {},
   "source": [
    "### 2. **Apply Clustering Algorithms**"
   ]
  },
  {
   "cell_type": "markdown",
   "metadata": {},
   "source": [
    "#### K-Means clustering\n",
    "\n",
    "K-means is an unsupervised clustering algorithm that partitions data into k clusters by iteratively updating cluster centroids to minimize intra-cluster variance (sum of squared distances). It is simple, easy to implement, and efficient even on large datasets, making it widely used. On the flip side, K-means performs best when clusters are roughly spherical and of similar size, which is not always the case. Additionally, the number of clusters (k) must be specified beforehand, which can be a challenging problem all by itself."
   ]
  },
  {
   "cell_type": "markdown",
   "metadata": {},
   "source": [
    "#### How to select the number of clusters to initialize K-Means algorithm?"
   ]
  },
  {
   "cell_type": "markdown",
   "metadata": {},
   "source": [
    "Before applying the K-Means algorithm, I will use both the **elbow method** and the **silhouette score** to determine the optimal number of clusters. Since they have different strengths, using them together provides a more well-rounded analysis, especially in cases where the optimal k is not clear."
   ]
  },
  {
   "cell_type": "markdown",
   "metadata": {},
   "source": [
    "#### Elbow method\n",
    "\n",
    "It measures how compact clusters are by evaluating within-cluster variance (or inertia). This technique helps determine the optimal number of clusters by identifying the point where adding more clusters no longer significantly reduces inertia (this is a key point to make since adding more clusters always reduces the distance between points and their assigned centroids). In this regard detecting the elbow isn't always clear. \n",
    "\n",
    "This method is particularly useful for datasets with well-defined clusters, as it focuses solely on how tightly data points are grouped rather than how well-separated the clusters are."
   ]
  },
  {
   "cell_type": "code",
   "execution_count": null,
   "metadata": {},
   "outputs": [],
   "source": [
    "import elbow"
   ]
  },
  {
   "cell_type": "markdown",
   "metadata": {},
   "source": [
    "#### Silhouette score"
   ]
  },
  {
   "cell_type": "markdown",
   "metadata": {},
   "source": [
    "It takes into account both cohesion (similarity inside the cluster) and separation (differences between clusters). A higher score means better-defined clusters. For a suscint and clear explanation see [here](https://www.youtube.com/watch?v=a2Kg2_l3L8M) "
   ]
  },
  {
   "cell_type": "code",
   "execution_count": null,
   "metadata": {},
   "outputs": [],
   "source": [
    "import silhouette"
   ]
  },
  {
   "cell_type": "markdown",
   "metadata": {},
   "source": [
    "Let's apply the elbow method to the vectors generated with the TF-IDF method:"
   ]
  },
  {
   "cell_type": "code",
   "execution_count": null,
   "metadata": {},
   "outputs": [],
   "source": [
    "elbow.elbow_method(tfidf_matrix, max_k=10)"
   ]
  },
  {
   "cell_type": "markdown",
   "metadata": {},
   "source": [
    "**How to interpret this plot?**\n",
    "\n",
    "This plot shows the inertia as a function of the number of clusters. The fact that the inertia is a monotonic decreasing function is expected.\n",
    "\n",
    "Here we have to look for the \"elbow\" point: this is where the rate of decrease in inertia slows down significantly. In this plot however, there is no clear elbow. The decrease appears quite linear (with the same slope value that is) across all the domain of k. But the largest drop happens between $k = 1$ and $k = 3$ and after that the reduction appears more gradual. If forced to choose based on this plot alone, $k=3$ might be reasonable."
   ]
  },
  {
   "cell_type": "markdown",
   "metadata": {},
   "source": [
    "Since the elbow method appears to be non-conclusive, let's check now the **silhouette score**"
   ]
  },
  {
   "cell_type": "code",
   "execution_count": null,
   "metadata": {},
   "outputs": [],
   "source": [
    "silhouette.silhouette_method(tfidf_matrix, max_k=15)"
   ]
  },
  {
   "cell_type": "markdown",
   "metadata": {},
   "source": [
    "**How to interpret this plot?**\n",
    "\n",
    "As mentioned before, the silhouette score measures clustering quality ( higher values indicate better defined and well separated clusters)\n",
    "\n",
    "The silhouette score at $k = 3$ is low compared to higher k values. This suggest that increasing k improves clustering quality.\n",
    "\n",
    "At $k = 8$ the silhouette score reaches a local maximum, which might indicate distinct and well-separated clusters.\n",
    "\n",
    "The drop after this value may suggests this well defined clusters are being split into smaller, less meaningful ones (this is known as *over-segmentation*)\n",
    "\n",
    "The increase around $k = 14$ could mean that there is an *underlying substructure*, and subsequent partition of the data helps to capture this. However, too high k risks overfitting by artificially creating more clusters than needed.\n",
    "\n",
    "\n",
    "**Why is the silhouette score more reliable in this case?**\n",
    "\n",
    "The elbow method only considers inertia, which measures how compact clusters are. However, compact clusters do not always mean good separation. The silhouette score takes into acount both intra and inter cluster distance."
   ]
  },
  {
   "cell_type": "markdown",
   "metadata": {},
   "source": [
    "Now let's apply this methods to the vectors generated with Word2Vec:"
   ]
  },
  {
   "cell_type": "code",
   "execution_count": null,
   "metadata": {},
   "outputs": [],
   "source": [
    "# Apply elbow method\n",
    "\n",
    "elbow.elbow_method(word_vectors)"
   ]
  },
  {
   "cell_type": "markdown",
   "metadata": {},
   "source": [
    "Here, $k = 4$ or $k = 5$ are good candidates: inertia decreases much more slowly for $k > 5$"
   ]
  },
  {
   "cell_type": "code",
   "execution_count": null,
   "metadata": {},
   "outputs": [],
   "source": [
    "# Calculate silhouette score \n",
    "\n",
    "silhouette.silhouette_method(word_vectors)"
   ]
  },
  {
   "cell_type": "markdown",
   "metadata": {},
   "source": [
    "Silhouette score is the greatest for $k = 4$. In this case, the k's obtained with both methods coincide!"
   ]
  },
  {
   "cell_type": "markdown",
   "metadata": {},
   "source": [
    "Finally, apply this methods to the vectors generated with SBERT:"
   ]
  },
  {
   "cell_type": "code",
   "execution_count": null,
   "metadata": {},
   "outputs": [],
   "source": [
    "# Apply elbow method\n",
    "\n",
    "elbow.elbow_method(sbert_embeddings)"
   ]
  },
  {
   "cell_type": "markdown",
   "metadata": {},
   "source": [
    "Here, $k = 4$, $k = 5$ or even $k = 7$ are possible candidates. "
   ]
  },
  {
   "cell_type": "code",
   "execution_count": null,
   "metadata": {},
   "outputs": [],
   "source": [
    "# Calculate silhouette score \n",
    "\n",
    "silhouette.silhouette_method(sbert_embeddings)"
   ]
  },
  {
   "cell_type": "markdown",
   "metadata": {},
   "source": [
    "Applying a similar criteria as the one in the first case, I will select $k = 4$ as the best candidate."
   ]
  },
  {
   "cell_type": "markdown",
   "metadata": {},
   "source": [
    "Then the number of clusters for initializing K-Means for the three arrays of vectors are:\n",
    "\n",
    "$$\n",
    "\\begin{array}{|c|c|c|c|}\n",
    "\\hline\n",
    "\\text{\\# clusters} & \\text{TF-IDF} & \\text{Word2Vec} & \\text{SBERT} \\\\\n",
    "\\hline\n",
    "k & 8 & 4 & 4 \\\\\n",
    "\\hline\n",
    "\\end{array}\n",
    "$$\n"
   ]
  },
  {
   "cell_type": "markdown",
   "metadata": {},
   "source": [
    "Now it's time to apply the K-Means algorithm."
   ]
  },
  {
   "cell_type": "code",
   "execution_count": null,
   "metadata": {},
   "outputs": [],
   "source": [
    "import kmeans"
   ]
  },
  {
   "cell_type": "code",
   "execution_count": null,
   "metadata": {},
   "outputs": [],
   "source": [
    "# Apply K-Means clustering to the generated vectors\n",
    "\n",
    "tfidf_labels, tfidf_inertia = kmeans.kmeans_clustering(tfidf_matrix, k=8)\n",
    "word_labels, word_inertia = kmeans.kmeans_clustering(word_vectors, k=4)\n",
    "sbert_labels, sbert_inertia = kmeans.kmeans_clustering(sbert_embeddings, k=4)"
   ]
  },
  {
   "cell_type": "markdown",
   "metadata": {},
   "source": [
    "### Hierarchical Clustering\n",
    "\n",
    "Hierarchical clustering builds a *hierarchy of clusters* that can be cut at different levels to obtain different groupings. It works in two main ways, top-down and bottom-up (agglomerative) approaches, with the bottom-up method being the most common.\n",
    "\n",
    "The result of this process is a tree-like graph called a **dendrogram**.  This kind of plots give a clear visualization of data relationships, for instance, the height at which two clusters merge represents their distance. By cutting the dendrogram at a specific height, you can determine the final clusters.\n",
    "\n",
    "One strength of hierarchical clustering, compared to methods like k-means, is that it doesn’t require predefining the number of clusters. On the flip side it becomes computationally expensive for large datasets and is sensitive to noise and outliers.\n"
   ]
  },
  {
   "cell_type": "markdown",
   "metadata": {},
   "source": [
    "### DBSCAN\n",
    "\n",
    "DBSCAN (Density-Based Spatial Clustering of Applications with Noise) is a clustering algorithm that identifies groups of densely packed points while distinguishing noise (outliers). It classifies each data point as a core, border, or noise point based on two key parameters: $\\epsilon$ which is the maximum distance within which points are considered neighbors and the minimum number of neighboring points (MinPts). Using this concepts we can define **core** points as those who have at least MinPts number of points within the distance $\\epsilon$. This form the dense regions of the cluster and is the first thing the model computes for buiding each cluster.\n",
    "\n",
    "A **border** point lies within $\\epsilon$ of a core point but has fewer than MinPts neighbors itself. These points help expand clusters but do not initiate them. **Noise** points are those that cannot be reached from any core point, meaning they do not belong to any cluster. These are treated as outliers.\n",
    "\n",
    "DBSCAN starts by identifying core points, then it expands clusters by connecting reachable border points, and leaves isolated points as noise. Because of this, the algorithm can deal with arbitrarily shaped clusters and handdle noise in the data."
   ]
  },
  {
   "cell_type": "markdown",
   "metadata": {},
   "source": [
    "Unlike other methods, the number of clusters does not need to be specified beforehand. However, despite being able to find clusters of arbitrary shape, it can struggle with clusters of varying *densities*. The model is very sensitive to parameter choice, so determining adequate values for $\\epsilon$ and MinPts is crucial."
   ]
  },
  {
   "cell_type": "markdown",
   "metadata": {},
   "source": [
    "#### Hyperparameter tunning"
   ]
  },
  {
   "cell_type": "markdown",
   "metadata": {},
   "source": [
    "As mentioned before, $\\epsilon$  defines the **maximum radius** around a point that is considered part of its neighborhood. It determines *how close* points must be to one another to be considered part of the same cluster.\n",
    "\n",
    "If $\\epsilon$ is too small, you might end up with too many small clusters, or the algorithm may classify most points as noise. If it's too large, the it might group distinct clusters together."
   ]
  },
  {
   "cell_type": "markdown",
   "metadata": {},
   "source": [
    "A K-distance plot is the usual way for tuning the $\\epsilon$ parameter. It helps determine the optimal value by analyzing the distances between each point and its k-th nearest neighbor."
   ]
  },
  {
   "cell_type": "code",
   "execution_count": 7,
   "metadata": {},
   "outputs": [],
   "source": [
    "from k_nearest import distance_plot"
   ]
  },
  {
   "cell_type": "markdown",
   "metadata": {},
   "source": [
    "The function takes as arguments MinPts (the second parameter of DBSCAN) and the metric used to calculate distances. It may seem counterintuitive that the distance  needs to be tuned while MinPts hasn't been optimized beforehand.\n",
    "\n",
    "The value of MinPts depends on both the dimensionality and size of the dataset. A common rule of thumb is to set MinPts to at least twice the number of dimensions. For example, for a 2D dataset, MinPts might be set to 4. For very high dimensions, a higher MinPts is generally recommended.\n",
    "\n",
    "Another important consideration is that calculating distances in high-dimensional spaces is challenging due to the curse of dimensionality. In high-dimensional data, Euclidean distance becomes less meaningful, as the difference between the nearest and farthest points diminishes. Because of this, alternative distance metrics should be considered. In this case, I chose cosine similarity, as DBSCAN is well-suited for it."
   ]
  },
  {
   "cell_type": "code",
   "execution_count": 8,
   "metadata": {},
   "outputs": [
    {
     "data": {
      "image/png": "[encoded data removed]",
      "text/plain": [
       "<Figure size 800x500 with 1 Axes>"
      ]
     },
     "metadata": {},
     "output_type": "display_data"
    }
   ],
   "source": [
    "# For example:\n",
    "\n",
    "distance_plot(tfidf_matrix, 10)"
   ]
  },
  {
   "cell_type": "markdown",
   "metadata": {},
   "source": [
    "**How to read this plot?**"
   ]
  },
  {
   "cell_type": "code",
   "execution_count": 9,
   "metadata": {},
   "outputs": [
    {
     "data": {
      "image/png": "[encoded data removed]",
      "text/plain": [
       "<Figure size 800x500 with 1 Axes>"
      ]
     },
     "metadata": {},
     "output_type": "display_data"
    }
   ],
   "source": [
    "from sklearn.neighbors import NearestNeighbors\n",
    "from sklearn.metrics.pairwise import cosine_distances\n",
    "\n",
    "distance_matrix = cosine_distances(tfidf_matrix)\n",
    "\n",
    "k=10\n",
    "\n",
    "neigh = NearestNeighbors(n_neighbors=k, metric='precomputed')\n",
    "neigh.fit(distance_matrix)\n",
    "distances, _ = neigh.kneighbors(distance_matrix)\n",
    "\n",
    "k_distances = np.sort(distances[:, k-1])  # Sort distances\n",
    "\n",
    "plt.figure(figsize=(8, 5))\n",
    "plt.plot(k_distances, marker='o')\n",
    "plt.xlabel(\"Points sorted by distance\")\n",
    "plt.ylabel(f\"{k}-th Nearest Neighbor Distance\")\n",
    "plt.title(f\"K-Distance Plot for k={k}\")\n",
    "plt.grid(True)\n",
    "plt.show()"
   ]
  },
  {
   "cell_type": "markdown",
   "metadata": {},
   "source": [
    "## Progress Notes (Date: 2025-02-25)\n",
    "- The shape of the K-distance plot is different to what is to be expected.\n",
    "- Next steps:\n",
    "  1. Investigate why this is the case\n"
   ]
  },
  {
   "cell_type": "markdown",
   "metadata": {},
   "source": [
    "MinPts: This is the minimum number of points that must exist within the ε-radius to form a dense region (core point). It's typically set to a value based on the dimensionality of the data. For instance, a common choice is MinPts = 4 for 2D data, but this can vary depending on the context and dataset."
   ]
  },
  {
   "cell_type": "markdown",
   "metadata": {},
   "source": [
    "The silhouette score treats DBSCAN's noise assignements as cluster of its own (as they are all -1). That's wrong, and it will work against DBSCAN. IMHO better to drop them before computing the silhouette.\n",
    "\n",
    "Nice article, however I don't think the silhouette coefficient is well adapted for density-based clustering (it doesn't work well when clusters are not convex)."
   ]
  },
  {
   "cell_type": "markdown",
   "metadata": {},
   "source": []
  }
 ],
 "metadata": {
  "kernelspec": {
   "display_name": ".venv",
   "language": "python",
   "name": "python3"
  },
  "language_info": {
   "codemirror_mode": {
    "name": "ipython",
    "version": 3
   },
   "file_extension": ".py",
   "mimetype": "text/x-python",
   "name": "python",
   "nbconvert_exporter": "python",
   "pygments_lexer": "ipython3",
   "version": "3.11.2"
  }
 },
 "nbformat": 4,
 "nbformat_minor": 2
}
